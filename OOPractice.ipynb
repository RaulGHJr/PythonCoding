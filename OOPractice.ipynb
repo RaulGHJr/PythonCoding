{
 "cells": [
  {
   "cell_type": "code",
   "execution_count": 4,
   "metadata": {},
   "outputs": [],
   "source": [
    "class Looney:\n",
    "    name = 'Porky'\n",
    "    def speak(self):\n",
    "        print(\"Hi, I'm {}...Watch my cartoon!!\".format(self.name))"
   ]
  },
  {
   "cell_type": "code",
   "execution_count": 6,
   "metadata": {},
   "outputs": [
    {
     "name": "stdout",
     "output_type": "stream",
     "text": [
      "Hi, I'm Daffy...Watch my cartoon!!\n"
     ]
    }
   ],
   "source": [
    "duck = Looney()\n",
    "duck.name = \"Daffy\"\n",
    "duck.speak()\n"
   ]
  },
  {
   "cell_type": "code",
   "execution_count": 7,
   "metadata": {},
   "outputs": [
    {
     "name": "stdout",
     "output_type": "stream",
     "text": [
      "Hi, I'm Bugs Bunny...Watch my cartoon!!\n"
     ]
    }
   ],
   "source": [
    "rabbit = Looney()\n",
    "rabbit.name = \"Bugs Bunny\"\n",
    "rabbit.speak()"
   ]
  },
  {
   "cell_type": "code",
   "execution_count": 8,
   "metadata": {},
   "outputs": [],
   "source": [
    "class Looney:\n",
    "    years = 0\n",
    "    def toon_years(self):\n",
    "        return self.years * 7"
   ]
  },
  {
   "cell_type": "code",
   "execution_count": 10,
   "metadata": {},
   "outputs": [
    {
     "name": "stdout",
     "output_type": "stream",
     "text": [
      "0\n"
     ]
    }
   ],
   "source": [
    "pig =  Looney()\n",
    "print(pig.toon_years())"
   ]
  },
  {
   "cell_type": "code",
   "execution_count": 11,
   "metadata": {},
   "outputs": [
    {
     "name": "stdout",
     "output_type": "stream",
     "text": [
      "28\n"
     ]
    }
   ],
   "source": [
    "pig.years = 4\n",
    "print(pig.toon_years())"
   ]
  },
  {
   "cell_type": "code",
   "execution_count": null,
   "metadata": {},
   "outputs": [],
   "source": [
    "# Constructors (__init__) make sure that we have all the necessary info\n",
    "# when we initialize a Class object\n",
    "class Apple:\n",
    "    def __init__(self, color, flavor):\n",
    "        self.color = color\n",
    "        self.flavor = flavor\n",
    "        \n",
    "grannysmith = Apple(\"red\", \"sweet\")"
   ]
  }
 ],
 "metadata": {
  "kernelspec": {
   "display_name": "Python 3.8.5 64-bit",
   "language": "python",
   "name": "python38564bit0db9d11f409842c9923c616381290a43"
  },
  "language_info": {
   "codemirror_mode": {
    "name": "ipython",
    "version": 3
   },
   "file_extension": ".py",
   "mimetype": "text/x-python",
   "name": "python",
   "nbconvert_exporter": "python",
   "pygments_lexer": "ipython3",
   "version": "3.8.5"
  }
 },
 "nbformat": 4,
 "nbformat_minor": 2
}
