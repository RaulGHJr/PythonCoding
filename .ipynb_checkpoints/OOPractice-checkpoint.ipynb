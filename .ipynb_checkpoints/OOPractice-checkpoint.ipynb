{
 "cells": [
  {
   "cell_type": "code",
   "execution_count": 4,
   "metadata": {},
   "outputs": [],
   "source": [
    "class Looney:\n",
    "    name = 'Porky'\n",
    "    def speak(self):\n",
    "        print(\"Hi, I'm {}...Watch my cartoon!!\".format(self.name))"
   ]
  },
  {
   "cell_type": "code",
   "execution_count": 6,
   "metadata": {},
   "outputs": [
    {
     "name": "stdout",
     "output_type": "stream",
     "text": [
      "Hi, I'm Daffy...Watch my cartoon!!\n"
     ]
    }
   ],
   "source": [
    "duck = Looney()\n",
    "duck.name = \"Daffy\"\n",
    "duck.speak()\n"
   ]
  },
  {
   "cell_type": "code",
   "execution_count": 7,
   "metadata": {},
   "outputs": [
    {
     "name": "stdout",
     "output_type": "stream",
     "text": [
      "Hi, I'm Bugs Bunny...Watch my cartoon!!\n"
     ]
    }
   ],
   "source": [
    "rabbit = Looney()\n",
    "rabbit.name = \"Bugs Bunny\"\n",
    "rabbit.speak()"
   ]
  },
  {
   "cell_type": "code",
   "execution_count": 8,
   "metadata": {},
   "outputs": [],
   "source": [
    "class Looney:\n",
    "    years = 0\n",
    "    def toon_years(self):\n",
    "        return self.years * 7"
   ]
  },
  {
   "cell_type": "code",
   "execution_count": 10,
   "metadata": {},
   "outputs": [
    {
     "name": "stdout",
     "output_type": "stream",
     "text": [
      "0\n"
     ]
    }
   ],
   "source": [
    "pig =  Looney()\n",
    "print(pig.toon_years())"
   ]
  },
  {
   "cell_type": "code",
   "execution_count": 11,
   "metadata": {},
   "outputs": [
    {
     "name": "stdout",
     "output_type": "stream",
     "text": [
      "28\n"
     ]
    }
   ],
   "source": [
    "pig.years = 4\n",
    "print(pig.toon_years())"
   ]
  },
  {
   "cell_type": "code",
   "execution_count": 13,
   "metadata": {},
   "outputs": [
    {
     "name": "stdout",
     "output_type": "stream",
     "text": [
      "tart\n"
     ]
    }
   ],
   "source": [
    "# Constructor methods (__init__) make sure that we have all the necessary info\n",
    "# when we initialize a Class object\n",
    "class Apple:\n",
    "    def __init__(self, color, flavor):\n",
    "        self.color = color\n",
    "        self.flavor = flavor\n",
    "    def want(self):\n",
    "        return \"Man, I could sure go for a nice {}, {} apple right now\".format(self.color, self.flavor)\n",
    "        \n",
    "grannysmith = Apple(\"green\", \"tart\")\n",
    "print(grannysmith.flavor)"
   ]
  },
  {
   "cell_type": "code",
   "execution_count": 14,
   "metadata": {},
   "outputs": [
    {
     "data": {
      "text/plain": [
       "'Man, I could sure go for a nice green, tart apple right now'"
      ]
     },
     "execution_count": 14,
     "metadata": {},
     "output_type": "execute_result"
    }
   ],
   "source": [
    "grannysmith.want()"
   ]
  },
  {
   "cell_type": "code",
   "execution_count": 16,
   "metadata": {},
   "outputs": [
    {
     "name": "stdout",
     "output_type": "stream",
     "text": [
      "This apple is colored green, and has a tart flavor\n"
     ]
    }
   ],
   "source": [
    "# String methods (__str__) allow us to use print using object names\n",
    "# without explicitly assigning a string value each time\n",
    "class Apple:\n",
    "    def __init__(self, color, flavor):\n",
    "        self.color = color\n",
    "        self.flavor = flavor\n",
    "        \n",
    "    def __str__(self):\n",
    "        return \"This apple is colored {}, and has a {} flavor\".format(self.color, self.flavor)\n",
    "    def want(self):\n",
    "        return \"Man, I could sure go for a nice {}, {} apple right now\".format(self.color, self.flavor)\n",
    "        \n",
    "grannysmith = Apple(\"green\", \"tart\")\n",
    "print(grannysmith)"
   ]
  },
  {
   "cell_type": "code",
   "execution_count": 19,
   "metadata": {},
   "outputs": [
    {
     "name": "stdout",
     "output_type": "stream",
     "text": [
      "Help on class Apple in module __main__:\n",
      "\n",
      "class Apple(builtins.object)\n",
      " |  Apple(color, flavor)\n",
      " |  \n",
      " |  Methods defined here:\n",
      " |  \n",
      " |  __init__(self, color, flavor)\n",
      " |      Initialize self.  See help(type(self)) for accurate signature.\n",
      " |  \n",
      " |  __str__(self)\n",
      " |      Return str(self).\n",
      " |  \n",
      " |  want(self)\n",
      " |  \n",
      " |  ----------------------------------------------------------------------\n",
      " |  Data descriptors defined here:\n",
      " |  \n",
      " |  __dict__\n",
      " |      dictionary for instance variables (if defined)\n",
      " |  \n",
      " |  __weakref__\n",
      " |      list of weak references to the object (if defined)\n",
      "\n"
     ]
    }
   ],
   "source": [
    "help(Apple)"
   ]
  },
  {
   "cell_type": "code",
   "execution_count": 20,
   "metadata": {},
   "outputs": [
    {
     "name": "stdout",
     "output_type": "stream",
     "text": [
      "Help on class Apple in module __main__:\n",
      "\n",
      "class Apple(builtins.object)\n",
      " |  Apple(color, flavor)\n",
      " |  \n",
      " |  Represents an apple of a certain color and flavor\n",
      " |  \n",
      " |  Methods defined here:\n",
      " |  \n",
      " |  __init__(self, color, flavor)\n",
      " |      Initialize self.  See help(type(self)) for accurate signature.\n",
      " |  \n",
      " |  __str__(self)\n",
      " |      Outputs the color and flavor of the apple\n",
      " |  \n",
      " |  want(self)\n",
      " |      Outputs the desire for the apple in question\n",
      " |  \n",
      " |  ----------------------------------------------------------------------\n",
      " |  Data descriptors defined here:\n",
      " |  \n",
      " |  __dict__\n",
      " |      dictionary for instance variables (if defined)\n",
      " |  \n",
      " |  __weakref__\n",
      " |      list of weak references to the object (if defined)\n",
      "\n"
     ]
    }
   ],
   "source": [
    "# Apple doesn't have much documentation, so we'll add some docstrings\n",
    "\n",
    "class Apple:\n",
    "    \"\"\"Represents an apple of a certain color and flavor\"\"\"\n",
    "    def __init__(self, color, flavor):\n",
    "        self.color = color\n",
    "        self.flavor = flavor\n",
    "        \n",
    "    def __str__(self):\n",
    "        \"\"\"Outputs the color and flavor of the apple\"\"\"\n",
    "        return \"This apple is colored {}, and has a {} flavor\".format(self.color, self.flavor)\n",
    "    \n",
    "    def want(self):\n",
    "        \"\"\"Outputs the desire for the apple in question\"\"\"\n",
    "        return \"Man, I could sure go for a nice {}, {} apple right now\".format(self.color, self.flavor)\n",
    "\n",
    "help(Apple)"
   ]
  },
  {
   "cell_type": "code",
   "execution_count": 22,
   "metadata": {},
   "outputs": [],
   "source": [
    "# We can put it all together with an elevator\n",
    "class Elevator:\n",
    "    def __init__(self, bottom, top, current):\n",
    "        \"\"\"Initializes the Elevator instance.\"\"\"\n",
    "        self.bottom = bottom\n",
    "        self.top = top\n",
    "        self.current = current\n",
    "    \n",
    "    def __str__(self):\n",
    "        return \"The elevator is currently on Floor: {}\".format(self.current)\n",
    "        \n",
    "    def up(self):\n",
    "        \"\"\"Makes the elevator go up one floor.\"\"\"\n",
    "        if self.current == self.top:\n",
    "            return \"Sorry, this elevator cannot go up any further\"\n",
    "        else:\n",
    "            self.current += 1\n",
    "        \n",
    "    def down(self):\n",
    "        \"\"\"Makes the elevator go down one floor.\"\"\"\n",
    "        if self.current == self.bottom:\n",
    "            return \"Sorry, this elevator cannot go down any further\"\n",
    "        else:\n",
    "            self.current -= 1\n",
    "        \n",
    "    def go_to(self, floor):\n",
    "        \"\"\"Makes the elevator go to the specific floor.\"\"\"\n",
    "        if self.bottom <= floor <=self.top:\n",
    "            self.current = floor\n",
    "        else:\n",
    "            return \"I'm sorry, but Floor {} is not available\".format(floor)\n",
    "\n",
    "elevator = Elevator(-1, 10, 0)"
   ]
  },
  {
   "cell_type": "code",
   "execution_count": 23,
   "metadata": {},
   "outputs": [
    {
     "data": {
      "text/plain": [
       "1"
      ]
     },
     "execution_count": 23,
     "metadata": {},
     "output_type": "execute_result"
    }
   ],
   "source": [
    "elevator.up() \n",
    "elevator.current #should output 1"
   ]
  },
  {
   "cell_type": "code",
   "execution_count": 24,
   "metadata": {},
   "outputs": [
    {
     "data": {
      "text/plain": [
       "0"
      ]
     },
     "execution_count": 24,
     "metadata": {},
     "output_type": "execute_result"
    }
   ],
   "source": [
    "elevator.down() \n",
    "elevator.current #should output 0"
   ]
  },
  {
   "cell_type": "code",
   "execution_count": 25,
   "metadata": {},
   "outputs": [
    {
     "data": {
      "text/plain": [
       "10"
      ]
     },
     "execution_count": 25,
     "metadata": {},
     "output_type": "execute_result"
    }
   ],
   "source": [
    "elevator.go_to(10) \n",
    "elevator.current #should output 10"
   ]
  },
  {
   "cell_type": "code",
   "execution_count": 26,
   "metadata": {},
   "outputs": [
    {
     "name": "stdout",
     "output_type": "stream",
     "text": [
      "9\n",
      "1\n"
     ]
    }
   ],
   "source": [
    "# Go to the top floor. Try to go up, it should stay. Then go down.\n",
    "elevator.go_to(10)\n",
    "elevator.up()\n",
    "elevator.down()\n",
    "print(elevator.current) # should be 9\n",
    "# Go to the bottom floor. Try to go down, it should stay. Then go up.\n",
    "elevator.go_to(-1)\n",
    "elevator.down()\n",
    "elevator.down()\n",
    "elevator.up()\n",
    "elevator.up()\n",
    "print(elevator.current) # should be 1"
   ]
  },
  {
   "cell_type": "code",
   "execution_count": 27,
   "metadata": {},
   "outputs": [
    {
     "name": "stdout",
     "output_type": "stream",
     "text": [
      "The elevator is currently on Floor: 5\n"
     ]
    }
   ],
   "source": [
    "elevator.go_to(5)\n",
    "print(elevator)"
   ]
  },
  {
   "cell_type": "code",
   "execution_count": 30,
   "metadata": {},
   "outputs": [
    {
     "name": "stdout",
     "output_type": "stream",
     "text": [
      "red\n",
      "sweet\n"
     ]
    }
   ],
   "source": [
    "# Let's work on inheritance\n",
    "# We'll make a Fruit class to work with our Apple class\n",
    "class Fruit:\n",
    "    def __init__(self, color, flavor):\n",
    "        self.color = color\n",
    "        self.flavor = flavor\n",
    "        \n",
    "class Apple(Fruit):\n",
    "    pass\n",
    "\n",
    "class Grape(Fruit):\n",
    "    pass\n",
    "\n",
    "# As Fruit is in the parentheses, Apple and Grape will inherit Fruit's\n",
    "# Contructor method (__init__). Fruit is the parent and Apple & Grape\n",
    "# are siblings\n",
    "\n",
    "jonagold = Apple(\"red\", \"sweet\")\n",
    "carnelian = Grape(\"purple\", \"sweet\")\n",
    "\n",
    "print(jonagold.color)\n",
    "print(carnelian.flavor)"
   ]
  },
  {
   "cell_type": "code",
   "execution_count": 31,
   "metadata": {},
   "outputs": [
    {
     "name": "stdout",
     "output_type": "stream",
     "text": [
      "Arf! I'm Sparky! Arf!\n"
     ]
    }
   ],
   "source": [
    "# Let look more at inheritance. Let's use an Animal class and Puppy \n",
    "# class. We'll make Puppy inherit an attribute, sound, from Animal\n",
    "\n",
    "class Animal:\n",
    "    sound = \"\" #yes we're putting this variable before init, roll with it\n",
    "    def __init__(self, name):\n",
    "        self.name = name\n",
    "    \n",
    "    def speak(self):\n",
    "        print(\"{sound} I'm {name}! {sound}\".format(sound = self.sound,\n",
    "                                                   name = self.name))\n",
    "\n",
    "class Puppy(Animal):\n",
    "    sound=\"Arf!\"\n",
    "\n",
    "sparky = Puppy(\"Sparky\")\n",
    "sparky.speak()"
   ]
  },
  {
   "cell_type": "code",
   "execution_count": 32,
   "metadata": {},
   "outputs": [
    {
     "name": "stdout",
     "output_type": "stream",
     "text": [
      "Meow! I'm Raga! Meow!\n"
     ]
    }
   ],
   "source": [
    "# Let's do Kittens too\n",
    "class Kitten(Animal):\n",
    "    sound = \"Meow!\"\n",
    "\n",
    "raga = Kitten(\"Raga\")\n",
    "raga.speak()"
   ]
  },
  {
   "cell_type": "code",
   "execution_count": 33,
   "metadata": {},
   "outputs": [],
   "source": [
    "# Now we're looking at composition, repositories and packages\n",
    "class Repository:\n",
    "    def __init__(self):\n",
    "        self.packages = {}\n",
    "    \n",
    "    def add_package(self, package):\n",
    "        self.packages[package.name] = package\n",
    "    \n",
    "    def total_size(self):\n",
    "        result = 0\n",
    "        for package in self.packages.values():\n",
    "            result += package.size\n",
    "        return result"
   ]
  },
  {
   "cell_type": "code",
   "execution_count": 34,
   "metadata": {},
   "outputs": [
    {
     "name": "stdout",
     "output_type": "stream",
     "text": [
      "10\n"
     ]
    }
   ],
   "source": [
    "class Clothing:\n",
    "    stock={ 'name': [],'material' :[], 'amount':[]}\n",
    "    def __init__(self,name):\n",
    "        material = \"\"\n",
    "        self.name = name\n",
    "    \n",
    "    def add_item(self, name, material, amount):\n",
    "        Clothing.stock['name'].append(self.name)\n",
    "        Clothing.stock['material'].append(self.material)\n",
    "        Clothing.stock['amount'].append(amount)\n",
    "    \n",
    "    def Stock_by_Material(self, material):\n",
    "        count=0\n",
    "        n=0\n",
    "        for item in Clothing.stock['material']:\n",
    "            if item == material:\n",
    "                count += Clothing.stock['amount'][n]\n",
    "                n+=1\n",
    "        return count\n",
    "\n",
    "class shirt(Clothing):\n",
    "    material=\"Cotton\"\n",
    "class pants(Clothing):\n",
    "    material=\"Cotton\"\n",
    "  \n",
    "polo = shirt(\"Polo\")\n",
    "sweatpants = pants(\"Sweatpants\")\n",
    "polo.add_item(polo.name, polo.material, 4)\n",
    "sweatpants.add_item(sweatpants.name, sweatpants.material, 6)\n",
    "current_stock = polo.Stock_by_Material(\"Cotton\")\n",
    "print(current_stock)"
   ]
  },
  {
   "cell_type": "code",
   "execution_count": null,
   "metadata": {},
   "outputs": [],
   "source": []
  }
 ],
 "metadata": {
  "kernelspec": {
   "display_name": "Python 3.8.5 64-bit",
   "language": "python",
   "name": "python38564bit0db9d11f409842c9923c616381290a43"
  },
  "language_info": {
   "codemirror_mode": {
    "name": "ipython",
    "version": 3
   },
   "file_extension": ".py",
   "mimetype": "text/x-python",
   "name": "python",
   "nbconvert_exporter": "python",
   "pygments_lexer": "ipython3",
   "version": "3.8.5"
  }
 },
 "nbformat": 4,
 "nbformat_minor": 2
}
